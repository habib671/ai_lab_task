{
  "nbformat": 4,
  "nbformat_minor": 0,
  "metadata": {
    "colab": {
      "name": "Pyhton_lab_1_practice.ipynb",
      "provenance": [],
      "collapsed_sections": [],
      "authorship_tag": "ABX9TyMqBIkZ4Zx6HZX2dokGXnNd",
      "include_colab_link": true
    },
    "kernelspec": {
      "name": "python3",
      "display_name": "Python 3"
    }
  },
  "cells": [
    {
      "cell_type": "markdown",
      "metadata": {
        "id": "view-in-github",
        "colab_type": "text"
      },
      "source": [
        "<a href=\"https://colab.research.google.com/github/habib671/ai_lab_task/blob/main/Pyhton_lab_1_practice.ipynb\" target=\"_parent\"><img src=\"https://colab.research.google.com/assets/colab-badge.svg\" alt=\"Open In Colab\"/></a>"
      ]
    },
    {
      "cell_type": "markdown",
      "metadata": {
        "id": "swuuUXKFADed"
      },
      "source": [
        "**Learning Python in Easy Way <3**"
      ]
    },
    {
      "cell_type": "code",
      "metadata": {
        "colab": {
          "base_uri": "https://localhost:8080/"
        },
        "id": "wPn0pknF_vFW",
        "outputId": "bb764a76-5a35-4cf2-a2c4-0eb3f715a93e"
      },
      "source": [
        "print(\"hello Habib, You better keep learning python\");"
      ],
      "execution_count": 1,
      "outputs": [
        {
          "output_type": "stream",
          "text": [
            "hello Habib, You better keep learning python\n"
          ],
          "name": "stdout"
        }
      ]
    },
    {
      "cell_type": "markdown",
      "metadata": {
        "id": "Pq4yGwLhAkvV"
      },
      "source": [
        "**VARIABLES IN PYTHON**"
      ]
    },
    {
      "cell_type": "code",
      "metadata": {
        "colab": {
          "base_uri": "https://localhost:8080/"
        },
        "id": "E-2h0aJhAntF",
        "outputId": "673a398d-207a-45f5-a0d7-283e54589717"
      },
      "source": [
        "i=6;\r\n",
        "print(type(i));\r\n",
        "f=3.9;\r\n",
        "print(type(f));\r\n",
        "b=True;\r\n",
        "print(type(b));\r\n",
        "str=\"I have a book!\";\r\n",
        "print(type(str));\r\n",
        "print(str);"
      ],
      "execution_count": 4,
      "outputs": [
        {
          "output_type": "stream",
          "text": [
            "<class 'int'>\n",
            "<class 'float'>\n",
            "<class 'bool'>\n",
            "<class 'str'>\n",
            "I have a book!\n"
          ],
          "name": "stdout"
        }
      ]
    },
    {
      "cell_type": "markdown",
      "metadata": {
        "id": "Nhft0fbBBaql"
      },
      "source": [
        "**ADVANCED PYTHON TYPES**"
      ]
    },
    {
      "cell_type": "code",
      "metadata": {
        "colab": {
          "base_uri": "https://localhost:8080/"
        },
        "id": "DjT2fiN0BfDF",
        "outputId": "d9274e4c-79d7-40fa-8956-d4f37151a26d"
      },
      "source": [
        "#LIST\r\n",
        "my_list=[];\r\n",
        "print(my_list);\r\n",
        "my_list=[1,2,3,3.1416,'Habib','Rabbani'];\r\n",
        "print(my_list);\r\n"
      ],
      "execution_count": 8,
      "outputs": [
        {
          "output_type": "stream",
          "text": [
            "[]\n",
            "[1, 2, 3, 3.1416, 'Habib', 'Rabbani']\n"
          ],
          "name": "stdout"
        }
      ]
    },
    {
      "cell_type": "code",
      "metadata": {
        "colab": {
          "base_uri": "https://localhost:8080/"
        },
        "id": "1dd_nnWAB8fE",
        "outputId": "63c260d2-f99c-44ae-d644-4b7aa077f7a3"
      },
      "source": [
        "#DICTIONARY\r\n",
        "\r\n",
        "my_dictionary={\r\n",
        "    \"name\" : \"MD AHsan habib\",\r\n",
        "    \"id\" : '181-15-1907',\r\n",
        "    \"cgpa\" : 3.92,\r\n",
        "    \"sec\" :\"PC-D\",\r\n",
        "}\r\n",
        "print(my_dictionary);\r\n",
        "print(my_dictionary['id']);\r\n",
        "print('My ID IS: '+my_dictionary['id'])"
      ],
      "execution_count": 15,
      "outputs": [
        {
          "output_type": "stream",
          "text": [
            "{'name': 'MD AHsan habib', 'id': '181-15-1907', 'cgpa': 3.92, 'sec': 'PC-D'}\n",
            "181-15-1907\n",
            "My ID IS: 181-15-1907\n"
          ],
          "name": "stdout"
        }
      ]
    },
    {
      "cell_type": "code",
      "metadata": {
        "colab": {
          "base_uri": "https://localhost:8080/"
        },
        "id": "GdZMSC_4DLBt",
        "outputId": "7f1d6ec7-6f37-47f8-c24d-96caab1af4c6"
      },
      "source": [
        "#NONE TYPE\r\n",
        "\r\n",
        "n =None;\r\n",
        "print(n);\r\n",
        "print(type(n));"
      ],
      "execution_count": 17,
      "outputs": [
        {
          "output_type": "stream",
          "text": [
            "None\n",
            "<class 'NoneType'>\n"
          ],
          "name": "stdout"
        }
      ]
    },
    {
      "cell_type": "markdown",
      "metadata": {
        "id": "51r1gMq4Ddpl"
      },
      "source": [
        "**ADVANCED PRINTING**"
      ]
    },
    {
      "cell_type": "code",
      "metadata": {
        "colab": {
          "base_uri": "https://localhost:8080/"
        },
        "id": "XT4BM7koDhiN",
        "outputId": "64570102-39ba-4b1c-da49-0fc93e3649ee"
      },
      "source": [
        "print(\"Here intege value is %f and float value is %s:\" %(i,f));"
      ],
      "execution_count": 21,
      "outputs": [
        {
          "output_type": "stream",
          "text": [
            "Here intege value is 6.000000 and float value is 3.9:\n"
          ],
          "name": "stdout"
        }
      ]
    },
    {
      "cell_type": "markdown",
      "metadata": {
        "id": "iXfoZbfIEOnd"
      },
      "source": [
        "**CONDITIONAL STATEMENT**"
      ]
    },
    {
      "cell_type": "code",
      "metadata": {
        "colab": {
          "base_uri": "https://localhost:8080/"
        },
        "id": "D-vlawJIEVfp",
        "outputId": "c3585318-7297-481a-a2b2-e59abf51c27a"
      },
      "source": [
        "if i==2 and f>3 :\r\n",
        "  print('The value is 2 and the value of f is greater than 3');\r\n",
        "elif i>5 and f>5:\r\n",
        "  print('both i and f is greater than 5');\r\n",
        "else:\r\n",
        "  print('Both i and f is less than 5');"
      ],
      "execution_count": 22,
      "outputs": [
        {
          "output_type": "stream",
          "text": [
            "Both i and f is less than 5\n"
          ],
          "name": "stdout"
        }
      ]
    },
    {
      "cell_type": "markdown",
      "metadata": {
        "id": "YCOY19sFE2Sd"
      },
      "source": [
        "**LOOPS**\r\n"
      ]
    },
    {
      "cell_type": "code",
      "metadata": {
        "colab": {
          "base_uri": "https://localhost:8080/"
        },
        "id": "kiq0y1__E43B",
        "outputId": "8ba691b3-911b-489a-99da-758d9aac1e84"
      },
      "source": [
        "print(my_list);\r\n"
      ],
      "execution_count": 23,
      "outputs": [
        {
          "output_type": "stream",
          "text": [
            "[1, 2, 3, 3.1416, 'Habib', 'Rabbani']\n"
          ],
          "name": "stdout"
        }
      ]
    },
    {
      "cell_type": "code",
      "metadata": {
        "colab": {
          "base_uri": "https://localhost:8080/"
        },
        "id": "rIFA6pcbFGZu",
        "outputId": "04463bf3-4286-4048-df91-a56ac8a4b04f"
      },
      "source": [
        "for item in my_list:\r\n",
        "  print(item);"
      ],
      "execution_count": 24,
      "outputs": [
        {
          "output_type": "stream",
          "text": [
            "1\n",
            "2\n",
            "3\n",
            "3.1416\n",
            "Habib\n",
            "Rabbani\n"
          ],
          "name": "stdout"
        }
      ]
    },
    {
      "cell_type": "code",
      "metadata": {
        "colab": {
          "base_uri": "https://localhost:8080/"
        },
        "id": "bJXilF6wFTid",
        "outputId": "f622dd09-d89d-4bb5-ab4a-e4455481a911"
      },
      "source": [
        "counter =1;\r\n",
        "while counter<=10:\r\n",
        "  print(counter);\r\n",
        "  counter+=1;"
      ],
      "execution_count": 26,
      "outputs": [
        {
          "output_type": "stream",
          "text": [
            "1\n",
            "2\n",
            "3\n",
            "4\n",
            "5\n",
            "6\n",
            "7\n",
            "8\n",
            "9\n",
            "10\n"
          ],
          "name": "stdout"
        }
      ]
    },
    {
      "cell_type": "markdown",
      "metadata": {
        "id": "WTvu6cJ8FpBZ"
      },
      "source": [
        "**CREATING FUNCTION**"
      ]
    },
    {
      "cell_type": "code",
      "metadata": {
        "colab": {
          "base_uri": "https://localhost:8080/"
        },
        "id": "Xt0iJsJgFrWl",
        "outputId": "64eba1e7-9a84-465d-d4ba-7ce42659ea1a"
      },
      "source": [
        "def myFunc():\r\n",
        "  print(\"This is a dummy function\");\r\n",
        "myFunc();"
      ],
      "execution_count": 27,
      "outputs": [
        {
          "output_type": "stream",
          "text": [
            "This is a dummy function\n"
          ],
          "name": "stdout"
        }
      ]
    },
    {
      "cell_type": "code",
      "metadata": {
        "colab": {
          "base_uri": "https://localhost:8080/"
        },
        "id": "P2JACwbAF8gN",
        "outputId": "8899f871-d653-478c-e016-a20c440a2198"
      },
      "source": [
        "def square(x):\r\n",
        "  sq = x*x;\r\n",
        "  return sq;\r\n",
        "\r\n",
        "myFunc();"
      ],
      "execution_count": 28,
      "outputs": [
        {
          "output_type": "stream",
          "text": [
            "This is a dummy function\n"
          ],
          "name": "stdout"
        }
      ]
    },
    {
      "cell_type": "code",
      "metadata": {
        "colab": {
          "base_uri": "https://localhost:8080/"
        },
        "id": "VOg0Qt-AGHDN",
        "outputId": "c4871795-3a22-434a-f512-d0830e07ea7b"
      },
      "source": [
        "value = square(5);\r\n",
        "print(value);\r\n",
        "\r\n",
        "x=10;\r\n",
        "print(square(x));"
      ],
      "execution_count": 30,
      "outputs": [
        {
          "output_type": "stream",
          "text": [
            "25\n",
            "100\n"
          ],
          "name": "stdout"
        }
      ]
    },
    {
      "cell_type": "code",
      "metadata": {
        "id": "mqy5-bK4Gch9"
      },
      "source": [
        "def sum(x,y):\r\n",
        "  z= x+y;\r\n",
        "  return z;\r\n"
      ],
      "execution_count": 32,
      "outputs": []
    },
    {
      "cell_type": "code",
      "metadata": {
        "colab": {
          "base_uri": "https://localhost:8080/"
        },
        "id": "imTQOIL3Gg-s",
        "outputId": "fb017ed1-3c88-40d1-ca06-e823b0dff588"
      },
      "source": [
        "print(\"Calling function sum: \");\r\n",
        "print(sum(3,4));"
      ],
      "execution_count": 34,
      "outputs": [
        {
          "output_type": "stream",
          "text": [
            "Calling function sum: \n",
            "7\n"
          ],
          "name": "stdout"
        }
      ]
    },
    {
      "cell_type": "markdown",
      "metadata": {
        "id": "9AX_xcXjHMlH"
      },
      "source": [
        "**USE BUILT IN FUNCTION**"
      ]
    },
    {
      "cell_type": "code",
      "metadata": {
        "colab": {
          "base_uri": "https://localhost:8080/"
        },
        "id": "zCSl0BbuHPU9",
        "outputId": "99beeb6e-6740-43fe-8fae-4baa010d245c"
      },
      "source": [
        "name = \"Habib\"\r\n",
        "age=25\r\n",
        "print('My name is ',name,'and I am',age,'years old')"
      ],
      "execution_count": 35,
      "outputs": [
        {
          "output_type": "stream",
          "text": [
            "My name is  Habib and I am 25 years old\n"
          ],
          "name": "stdout"
        }
      ]
    },
    {
      "cell_type": "code",
      "metadata": {
        "colab": {
          "base_uri": "https://localhost:8080/"
        },
        "id": "IYH3BC6VHy0G",
        "outputId": "23a4f901-8594-4ed6-c31e-9295356e0243"
      },
      "source": [
        "#append(), #pop(), #remove()\r\n",
        "numbers = [1,2,3,4,5,]\r\n",
        "numbers.append(10)\r\n",
        "print(numbers)\r\n",
        "numbers.pop()\r\n",
        "print(numbers)\r\n",
        "numbers.remove(2)\r\n",
        "print(numbers)"
      ],
      "execution_count": 39,
      "outputs": [
        {
          "output_type": "stream",
          "text": [
            "[1, 2, 3, 4, 5, 10]\n",
            "[1, 2, 3, 4, 5]\n",
            "[1, 3, 4, 5]\n"
          ],
          "name": "stdout"
        }
      ]
    },
    {
      "cell_type": "code",
      "metadata": {
        "colab": {
          "base_uri": "https://localhost:8080/"
        },
        "id": "93BRQOLAIRge",
        "outputId": "5b2570f0-2cd8-4356-e973-31f1092ab41f"
      },
      "source": [
        "def print_in_square(numbers):\r\n",
        "  for number in numbers:\r\n",
        "    if number>=3:\r\n",
        "      squared =number*number\r\n",
        "      print(squared)\r\n",
        "\r\n",
        "numbers = [1,2,3,4]\r\n",
        "print_in_square(numbers)"
      ],
      "execution_count": 44,
      "outputs": [
        {
          "output_type": "stream",
          "text": [
            "9\n",
            "16\n"
          ],
          "name": "stdout"
        }
      ]
    }
  ]
}